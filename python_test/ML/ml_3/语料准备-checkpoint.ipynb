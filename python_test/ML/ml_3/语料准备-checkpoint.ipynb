{
 "cells": [
  {
   "cell_type": "code",
   "execution_count": null,
   "metadata": {
    "collapsed": true
   },
   "outputs": [],
   "source": [
    "import jieba\n",
    "import pandas as pd\n",
    "import random"
   ]
  },
  {
   "cell_type": "markdown",
   "metadata": {},
   "source": [
    "car_news = pd.read_csv(\"car_news.csv\",encoding='utf-8')\n",
    "entertainment_news = pd.read_csv(\"entertainment_news.csv\",encoding='utf-8')\n",
    "finance_news = pd.read_csv(\"finance_news.csv\",encoding='utf-8')\n",
    "home_news = pd.read_csv(\"home_news.csv\",encoding='utf-8')\n",
    "house_news = pd.read_csv(\"house_news.csv\",encoding='utf-8')\n",
    "international_news = pd.read_csv(\"international_news.csv\",encoding='utf-8')\n",
    "military_news = pd.read_csv(\"military_news.csv\",encoding='utf-8')\n",
    "society_news = pd.read_csv(\"society_news.csv\",encoding='utf-8')\n",
    "sports_news = pd.read_csv(\"sports_news.csv\",encoding='utf-8')\n",
    "technology_news = pd.read_csv(\"technology_news.csv\",encoding='utf-8')"
   ]
  },
  {
   "cell_type": "code",
   "execution_count": 59,
   "metadata": {},
   "outputs": [],
   "source": [
    "car_news['content'] = car_news['content'].apply(lambda x: str(x).strip())\n",
    "entertainment_news['content'] = entertainment_news['content'].apply(lambda x: str(x).strip())\n",
    "finance_news['content'] = finance_news['content'].apply(lambda x: str(x).strip())\n",
    "home_news['content'] = home_news['content'].apply(lambda x: str(x).strip())\n",
    "house_news['content'] = house_news['content'].apply(lambda x: str(x).strip())\n",
    "international_news['content'] = international_news['content'].apply(lambda x: str(x).strip())\n",
    "military_news['content'] = military_news['content'].apply(lambda x: str(x).strip())\n",
    "society_news['content'] = society_news['content'].apply(lambda x: str(x).strip())\n",
    "sports_news['content'] = sports_news['content'].apply(lambda x: str(x).strip())\n",
    "technology_news['content'] = technology_news['content'].apply(lambda x: str(x).strip())"
   ]
  },
  {
   "cell_type": "code",
   "execution_count": 60,
   "metadata": {},
   "outputs": [],
   "source": [
    "car_news.dropna(inplace=True)\n",
    "entertainment_news.dropna(inplace=True)\n",
    "finance_news.dropna(inplace=True)\n",
    "home_news.dropna(inplace=True)\n",
    "house_news.dropna(inplace=True)\n",
    "international_news.dropna(inplace=True)\n",
    "military_news.dropna(inplace=True)\n",
    "society_news.dropna(inplace=True)\n",
    "sports_news.dropna(inplace=True)\n",
    "technology_news.dropna(inplace=True)"
   ]
  },
  {
   "cell_type": "code",
   "execution_count": 61,
   "metadata": {},
   "outputs": [],
   "source": [
    "car_news = car_news['content'].values.tolist()\n",
    "entertainment_news = entertainment_news['content'].values.tolist()\n",
    "finance_news = finance_news['content'].values.tolist()\n",
    "home_news = home_news['content'].values.tolist()\n",
    "house_news = house_news['content'].values.tolist()\n",
    "international_news = international_news['content'].values.tolist()\n",
    "military_news = military_news['content'].values.tolist()\n",
    "society_news = society_news['content'].values.tolist()\n",
    "sports_news = sports_news['content'].values.tolist()\n",
    "technology_news = technology_news['content'].values.tolist()"
   ]
  },
  {
   "cell_type": "code",
   "execution_count": 99,
   "metadata": {
    "collapsed": true
   },
   "outputs": [],
   "source": [
    "data  = car_news + entertainment_news + finance_news + home_news + house_news + international_news + military_news + society_news + sports_news + technology_news"
   ]
  },
  {
   "cell_type": "code",
   "execution_count": 100,
   "metadata": {},
   "outputs": [
    {
     "data": {
      "text/plain": [
       "818944"
      ]
     },
     "execution_count": 100,
     "metadata": {},
     "output_type": "execute_result"
    }
   ],
   "source": [
    "len(data)"
   ]
  },
  {
   "cell_type": "code",
   "execution_count": null,
   "metadata": {},
   "outputs": [],
   "source": []
  },
  {
   "cell_type": "code",
   "execution_count": null,
   "metadata": {
    "collapsed": true
   },
   "outputs": [],
   "source": []
  },
  {
   "cell_type": "code",
   "execution_count": 101,
   "metadata": {
    "collapsed": true
   },
   "outputs": [],
   "source": [
    "random.shuffle(data)"
   ]
  },
  {
   "cell_type": "code",
   "execution_count": 102,
   "metadata": {},
   "outputs": [
    {
     "data": {
      "text/plain": [
       "818944"
      ]
     },
     "execution_count": 102,
     "metadata": {},
     "output_type": "execute_result"
    }
   ],
   "source": [
    "len(data)"
   ]
  },
  {
   "cell_type": "code",
   "execution_count": null,
   "metadata": {
    "collapsed": true
   },
   "outputs": [],
   "source": [
    "datasets = [\" \".join(jieba.cut(x)) for x in data]"
   ]
  },
  {
   "cell_type": "code",
   "execution_count": null,
   "metadata": {
    "collapsed": true
   },
   "outputs": [],
   "source": [
    "trainCorpus = pd.read_csv(\"trainCorpus.txt\",encoding='utf-8',names = ['content'])\n",
    "trainCorpus['content'] = trainCorpus['content'].apply(lambda x: str(x).strip())\n",
    "trainCorpus.dropna(inplace=True)\n",
    "trainCorpus = trainCorpus['content'].values.tolist()"
   ]
  },
  {
   "cell_type": "code",
   "execution_count": 84,
   "metadata": {},
   "outputs": [],
   "source": [
    "df = pd.DataFrame({\"content\":datasets})"
   ]
  },
  {
   "cell_type": "code",
   "execution_count": 85,
   "metadata": {},
   "outputs": [
    {
     "data": {
      "text/html": [
       "<div>\n",
       "<style>\n",
       "    .dataframe thead tr:only-child th {\n",
       "        text-align: right;\n",
       "    }\n",
       "\n",
       "    .dataframe thead th {\n",
       "        text-align: left;\n",
       "    }\n",
       "\n",
       "    .dataframe tbody tr th {\n",
       "        vertical-align: top;\n",
       "    }\n",
       "</style>\n",
       "<table border=\"1\" class=\"dataframe\">\n",
       "  <thead>\n",
       "    <tr style=\"text-align: right;\">\n",
       "      <th></th>\n",
       "      <th>ceontent</th>\n",
       "    </tr>\n",
       "  </thead>\n",
       "  <tbody>\n",
       "    <tr>\n",
       "      <th>0</th>\n",
       "      <td>在 确认 周围环境 安全 后 ， 指挥 人员 下达 起爆 命令 。 随着 “ 轰 ” 地 一...</td>\n",
       "    </tr>\n",
       "    <tr>\n",
       "      <th>1</th>\n",
       "      <td>齐鲁 网 4 月 20 日讯 ( 记者   刘杰 ) 记者 从 今天 在 青岛 召开 的 山...</td>\n",
       "    </tr>\n",
       "    <tr>\n",
       "      <th>2</th>\n",
       "      <td>2017 年 3 月 ， 环保部 与 住 建部 联合 河北省 环保 厅 及 河北省 住 建厅...</td>\n",
       "    </tr>\n",
       "    <tr>\n",
       "      <th>3</th>\n",
       "      <td>在 整个 节目 录制 过程 中 ， 各位 导师 贡献 的 金句 及 点评 可以 称得上 是艺...</td>\n",
       "    </tr>\n",
       "    <tr>\n",
       "      <th>4</th>\n",
       "      <td>在 世界 经济 低迷 徘徊 、 保护主义 抬头 的 关键时期 ， 中国 向前 一步 ， 向 ...</td>\n",
       "    </tr>\n",
       "  </tbody>\n",
       "</table>\n",
       "</div>"
      ],
      "text/plain": [
       "                                            ceontent\n",
       "0  在 确认 周围环境 安全 后 ， 指挥 人员 下达 起爆 命令 。 随着 “ 轰 ” 地 一...\n",
       "1  齐鲁 网 4 月 20 日讯 ( 记者   刘杰 ) 记者 从 今天 在 青岛 召开 的 山...\n",
       "2  2017 年 3 月 ， 环保部 与 住 建部 联合 河北省 环保 厅 及 河北省 住 建厅...\n",
       "3  在 整个 节目 录制 过程 中 ， 各位 导师 贡献 的 金句 及 点评 可以 称得上 是艺...\n",
       "4  在 世界 经济 低迷 徘徊 、 保护主义 抬头 的 关键时期 ， 中国 向前 一步 ， 向 ..."
      ]
     },
     "execution_count": 85,
     "metadata": {},
     "output_type": "execute_result"
    }
   ],
   "source": [
    "df.head()"
   ]
  },
  {
   "cell_type": "code",
   "execution_count": null,
   "metadata": {
    "collapsed": true
   },
   "outputs": [],
   "source": [
    "df."
   ]
  },
  {
   "cell_type": "code",
   "execution_count": 86,
   "metadata": {},
   "outputs": [],
   "source": [
    "df.to_csv(\"data.txt\",index=False,header=False,encoding='utf-8')"
   ]
  },
  {
   "cell_type": "code",
   "execution_count": null,
   "metadata": {
    "collapsed": true
   },
   "outputs": [],
   "source": []
  }
 ],
 "metadata": {
  "kernelspec": {
   "display_name": "Python 3",
   "language": "python",
   "name": "python3"
  },
  "language_info": {
   "codemirror_mode": {
    "name": "ipython",
    "version": 3
   },
   "file_extension": ".py",
   "mimetype": "text/x-python",
   "name": "python",
   "nbconvert_exporter": "python",
   "pygments_lexer": "ipython3",
   "version": "3.6.3"
  }
 },
 "nbformat": 4,
 "nbformat_minor": 2
}
